{
 "cells": [
  {
   "cell_type": "code",
   "execution_count": null,
   "metadata": {},
   "outputs": [],
   "source": [
    "import pandas as pd\n",
    "import matplotlib.pyplot as plt\n",
    "import seaborn as sns\n",
    "\n",
    "try:\n",
    "    url = \"https://raw.githubusercontent.com/mwaskom/seaborn-data/master/iris.csv\"\n",
    "    data = pd.read_csv(url)\n",
    "    print(\"Dataset loaded successfully!\\n\")\n",
    "except FileNotFoundError:\n",
    "    print(\"Error: The file was not found.\")\n",
    "    exit()\n",
    "\n",
    "print(\"First 5 rows of the dataset:\\n\", data.head())\n",
    "\n",
    "print(\"\\nDataset Info:\")\n",
    "print(data.info())\n",
    "\n",
    "print(\"\\nMissing values in the dataset:\")\n",
    "print(data.isnull().sum())\n",
    "\n",
    "if data.isnull().values.any():\n",
    "    data.fillna(data.mean(), inplace=True)\n",
    "    print(\"\\nMissing values have been filled.\")\n",
    "else:\n",
    "    print(\"\\nNo missing values found.\")\n"
   ]
  },
  {
   "cell_type": "code",
   "execution_count": null,
   "metadata": {},
   "outputs": [],
   "source": [
    "\n",
    "print(\"\\nBasic Statistics for Numerical Columns:\")\n",
    "print(data.describe())\n",
    "\n",
    "print(\"\\nMean of numerical columns grouped by species:\")\n",
    "grouped_means = data.groupby('species').mean()\n",
    "print(grouped_means)\n",
    "\n",
    "petal_length_diff = grouped_means['petal_length'].max() - grouped_means['petal_length'].min()\n",
    "print(f\"\\nObservation: The difference in mean petal length across species is {petal_length_diff:.2f}.\")\n"
   ]
  },
  {
   "cell_type": "code",
   "execution_count": null,
   "metadata": {},
   "outputs": [],
   "source": [
    "\n",
    "data['index'] = range(1, len(data) + 1) \n",
    "plt.figure(figsize=(10, 6))\n",
    "plt.plot(data['index'], data['sepal_length'], label='Sepal Length', color='blue')\n",
    "plt.title(\"Line Chart: Sepal Length Over Time\")\n",
    "plt.xlabel(\"Index\")\n",
    "plt.ylabel(\"Sepal Length\")\n",
    "plt.legend()\n",
    "plt.show()\n",
    "\n",
    "plt.figure(figsize=(8, 6))\n",
    "sns.barplot(x='species', y='petal_length', data=data, palette='viridis')\n",
    "plt.title(\"Bar Chart: Average Petal Length by Species\")\n",
    "plt.xlabel(\"Species\")\n",
    "plt.ylabel(\"Average Petal Length\")\n",
    "plt.show()\n",
    "\n",
    "plt.figure(figsize=(8, 6))\n",
    "sns.histplot(data['sepal_width'], kde=True, bins=15, color='green')\n",
    "plt.title(\"Histogram: Distribution of Sepal Width\")\n",
    "plt.xlabel(\"Sepal Width\")\n",
    "plt.ylabel(\"Frequency\")\n",
    "plt.show()\n",
    "\n",
    "plt.figure(figsize=(8, 6))\n",
    "sns.scatterplot(x='sepal_length', y='petal_length', hue='species', palette='deep')\n",
    "plt.title(\"Scatter Plot: Sepal Length vs Petal Length\")\n",
    "plt.xlabel(\"Sepal Length\")\n",
    "plt.ylabel(\"Petal Length\")\n",
    "plt.legend(title='Species')\n",
    "plt.show()\n"
   ]
  }
 ],
 "metadata": {
  "language_info": {
   "name": "python"
  }
 },
 "nbformat": 4,
 "nbformat_minor": 2
}
